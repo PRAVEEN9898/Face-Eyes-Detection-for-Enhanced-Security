{
 "cells": [
  {
   "cell_type": "markdown",
   "id": "a673efd7",
   "metadata": {},
   "source": [
    "# AI ~ OPEN CV (COMPUTER VISION) :"
   ]
  },
  {
   "cell_type": "code",
   "execution_count": 1,
   "id": "8708ca30",
   "metadata": {},
   "outputs": [],
   "source": [
    "import cv2\n",
    "import numpy as np"
   ]
  },
  {
   "cell_type": "code",
   "execution_count": 2,
   "id": "a213fbd8",
   "metadata": {},
   "outputs": [],
   "source": [
    "import warnings\n",
    "warnings.simplefilter(\"ignore\")"
   ]
  },
  {
   "cell_type": "markdown",
   "id": "28786e53",
   "metadata": {},
   "source": [
    "# Install the module :"
   ]
  },
  {
   "cell_type": "raw",
   "id": "61dc4824",
   "metadata": {},
   "source": [
    "    pip install opencv-python"
   ]
  },
  {
   "cell_type": "markdown",
   "id": "bb4918a7",
   "metadata": {},
   "source": [
    "# LOAD OR READ IMAGE :"
   ]
  },
  {
   "cell_type": "code",
   "execution_count": 3,
   "id": "c70601d1",
   "metadata": {},
   "outputs": [],
   "source": [
    "img = cv2.imread(r\"F:\\JUPITER\\open cv photos\\modi.jpg\",1)"
   ]
  },
  {
   "cell_type": "code",
   "execution_count": 4,
   "id": "fa6e0824",
   "metadata": {},
   "outputs": [
    {
     "data": {
      "text/plain": [
       "array([[[ 69, 177, 134],\n",
       "        [ 51, 158, 115],\n",
       "        [ 53, 153, 111],\n",
       "        ...,\n",
       "        [  2,  93,  44],\n",
       "        [ 16,  88,  36],\n",
       "        [ 15,  77,  25]],\n",
       "\n",
       "       [[ 73, 181, 138],\n",
       "        [ 51, 158, 115],\n",
       "        [ 52, 152, 110],\n",
       "        ...,\n",
       "        [  0,  81,  32],\n",
       "        [ 12,  85,  35],\n",
       "        [ 19,  83,  31]],\n",
       "\n",
       "       [[ 76, 184, 142],\n",
       "        [ 50, 156, 115],\n",
       "        [ 48, 150, 109],\n",
       "        ...,\n",
       "        [  0,  80,  31],\n",
       "        [ 11,  86,  35],\n",
       "        [ 15,  84,  33]],\n",
       "\n",
       "       ...,\n",
       "\n",
       "       [[ 17, 152, 130],\n",
       "        [ 14, 143, 122],\n",
       "        [ 73, 185, 168],\n",
       "        ...,\n",
       "        [124, 195, 155],\n",
       "        [130, 204, 162],\n",
       "        [126, 201, 157]],\n",
       "\n",
       "       [[ 11, 146, 124],\n",
       "        [ 20, 149, 128],\n",
       "        [ 87, 199, 182],\n",
       "        ...,\n",
       "        [121, 192, 152],\n",
       "        [124, 198, 156],\n",
       "        [111, 188, 144]],\n",
       "\n",
       "       [[  2, 137, 115],\n",
       "        [ 21, 150, 129],\n",
       "        [ 97, 209, 192],\n",
       "        ...,\n",
       "        [123, 196, 156],\n",
       "        [121, 195, 153],\n",
       "        [ 94, 171, 127]]], dtype=uint8)"
      ]
     },
     "execution_count": 4,
     "metadata": {},
     "output_type": "execute_result"
    }
   ],
   "source": [
    "img"
   ]
  },
  {
   "cell_type": "code",
   "execution_count": 5,
   "id": "4d2b00c7",
   "metadata": {},
   "outputs": [
    {
     "data": {
      "text/plain": [
       "(540, 576, 3)"
      ]
     },
     "execution_count": 5,
     "metadata": {},
     "output_type": "execute_result"
    }
   ],
   "source": [
    "img.shape"
   ]
  },
  {
   "cell_type": "markdown",
   "id": "5c62641e",
   "metadata": {},
   "source": [
    "# Open image :\n"
   ]
  },
  {
   "cell_type": "code",
   "execution_count": 6,
   "id": "590b7db2",
   "metadata": {},
   "outputs": [],
   "source": [
    "cv2.imshow(\"PM\",img)        # Helps to display the image\n",
    "cv2.waitKey()               # Helps to keep the waiting of tab\n",
    "cv2.destroyAllWindows()     # Helps to close the window"
   ]
  },
  {
   "cell_type": "markdown",
   "id": "ec35f6d2",
   "metadata": {},
   "source": [
    "# Resize image :"
   ]
  },
  {
   "cell_type": "code",
   "execution_count": 7,
   "id": "b624d7d4",
   "metadata": {},
   "outputs": [],
   "source": [
    "img = cv2.imread(r\"F:\\JUPITER\\open cv photos\\modi.jpg\",1)\n",
    "image = cv2.imshow(\"PM\",img)\n",
    "re_size = cv2.resize(img,[500,500])\n",
    "cv2.imshow(\"PM\",re_size)\n",
    "cv2.waitKey()\n",
    "cv2.destroyAllWindows()"
   ]
  },
  {
   "cell_type": "code",
   "execution_count": 8,
   "id": "f6a930f5",
   "metadata": {},
   "outputs": [
    {
     "data": {
      "text/plain": [
       "(500, 500, 3)"
      ]
     },
     "execution_count": 8,
     "metadata": {},
     "output_type": "execute_result"
    }
   ],
   "source": [
    "re_size.shape"
   ]
  },
  {
   "cell_type": "markdown",
   "id": "79253b56",
   "metadata": {},
   "source": [
    "#  FACE DETECTION USING HARSSCADE CLASSIFIER :"
   ]
  },
  {
   "cell_type": "code",
   "execution_count": 9,
   "id": "226b53ec",
   "metadata": {},
   "outputs": [],
   "source": [
    "import cv2\n",
    "import numpy as np\n",
    "\n",
    "# Step 1 : Load the image :\n",
    "img = cv2.imread(r\"F:\\JUPITER\\open cv photos\\modi.jpg\",1)\n",
    "gray = cv2.imread(r\"F:\\JUPITER\\open cv photos\\modi.jpg\",0)\n",
    "\n",
    "#Step 2 : Resize the image :\n",
    "img = cv2.resize(img,[500,500])\n",
    "gray = cv2.resize(gray,[500,500])\n",
    "\n",
    "# Step 3 : Import the module (mode):\n",
    "face_detector = cv2.CascadeClassifier(r\"F:\\JUPITER\\haarcascade_frontalface_default.xml\")\n",
    "\n",
    "# Step 4 : Give the parametes (prediction) : \n",
    "faces = face_detector.detectMultiScale(img,1.05,5)   # --------> (input image, scale factor, min naighbors)\n",
    "\n",
    "\n",
    "# Step 5 : Giving the condition\n",
    "if faces is ():\n",
    "    print(\"======= NO FACES ARE FOUND =========\")\n",
    "    \n",
    "for (x,y,w,h) in faces:\n",
    "    cv2.rectangle(img,(x,y),(x+w,y+h),(0,225,200),5)\n",
    "    \n",
    "# Step 6 : Print the image :\n",
    "cv2.imshow(\"FACE DETECTOR\",img)\n",
    "cv2.waitKey()\n",
    "cv2.destroyAllWindows()"
   ]
  },
  {
   "cell_type": "markdown",
   "id": "26af6bec",
   "metadata": {},
   "source": [
    "#  FACE & EYE DETECTION USING HARSSCADE CLASSIFIER :"
   ]
  },
  {
   "cell_type": "code",
   "execution_count": 10,
   "id": "9cef79a9",
   "metadata": {},
   "outputs": [],
   "source": [
    "import numpy as np\n",
    "import cv2\n",
    "\n",
    "# Step 1 : Load & read the image :\n",
    "img = cv2.imread(r\"F:\\JUPITER\\open cv photos\\mahesh.jpg\",1)\n",
    "gray =  cv2.imread(r\"F:\\JUPITER\\open cv photos\\mahesh.jpg\",0)\n",
    "\n",
    "# Step 2 : Resize the image :\n",
    "img = cv2.resize(img,[600,750])\n",
    "gray = cv2.resize(gray,[600,750])\n",
    "\n",
    "# Step 3 : importing modules (modeling):\n",
    "face_detector = cv2.CascadeClassifier(r\"F:\\JUPITER\\haarcascade_frontalface_default.xml\")\n",
    "eye_detector = cv2.CascadeClassifier(r\"F:\\JUPITER\\haarcascade_eye.xml\")\n",
    "\n",
    "# Step 4 : detection (prediction) :\n",
    "faces = face_detector.detectMultiScale(img,1.05,15)\n",
    "eyes = eye_detector.detectMultiScale(img,1.05,20)\n",
    "\n",
    "# step 5 : condition :\n",
    "if faces is ():\n",
    "    print(\"========== NO FACES WARE FOUND =============\")\n",
    "    \n",
    "for (x,y,w,h) in faces :\n",
    "    cv2.rectangle(img,(x,y),(x+w,y+h),(0,200,0),4)\n",
    "    \n",
    "    if eyes is ():\n",
    "        print(\"========= NO EYES WARE FOUND ===========\")\n",
    "        \n",
    "    for (ex,ey,ew,eh) in eyes :\n",
    "        cv2.rectangle(img,(ex,ey),(ex+ew,ey+eh),(0,0,200),2)\n",
    "\n",
    "cv2.imshow(\"MAHESH DETECTION\",img)\n",
    "cv2.waitKey(2000)\n",
    "cv2.destroyAllWindows()\n",
    "\n"
   ]
  },
  {
   "cell_type": "markdown",
   "id": "1571e74a",
   "metadata": {},
   "source": [
    "# Video Processing : Capture the video :"
   ]
  },
  {
   "cell_type": "code",
   "execution_count": 11,
   "id": "e86e4ff1",
   "metadata": {},
   "outputs": [],
   "source": [
    "import pandas as pd\n",
    "import cv2\n",
    "\n",
    "video = cv2.VideoCapture(0)\n",
    "\n",
    "while True :\n",
    "    check,frame = video.read()\n",
    "    \n",
    "    cv2.imshow(\"MB\",frame)\n",
    "    if cv2.waitKey(1) == ord(\"p\"):\n",
    "        break\n",
    "        \n",
    "video.release()\n",
    "cv2.destroyAllWindows()"
   ]
  },
  {
   "cell_type": "code",
   "execution_count": 3,
   "id": "52ac3ec3",
   "metadata": {},
   "outputs": [],
   "source": [
    "import cv2\n",
    "\n",
    "face_detector = cv2.CascadeClassifier(\"F:\\\\JUPITER\\\\haarcascade_frontalface_default.xml\")\n",
    "eye_detector = cv2.CascadeClassifier(\"F:\\\\JUPITER\\\\haarcascade_eye.xml\")\n",
    "\n",
    "def detect (frame):\n",
    "    faces = face_detector.detectMultiScale(frame,1.05,50)\n",
    "    for (fx,fy,fw,fh)in faces:\n",
    "        cv2.rectangle(frame,(fx,fy),(fx+fw,fy+fh),(0,255,0),3)\n",
    "        #eyse_border = frame [fy:fy+fh,fx:fx+fh]\n",
    "        eyes = eye_detector.detectMultiScale(frame,1.05,30)\n",
    "        for (ex,ey,ew,eh) in eyes :\n",
    "            cv2.rectangle(frame,(ex,ey),(ex+ew,ey+eh),(0,0,225),2)\n",
    "        \n",
    "    return frame\n",
    "\n",
    "video = cv2.VideoCapture(0)\n",
    "\n",
    "while True:\n",
    "    check,frame = video.read()\n",
    "    canvas = detect(frame)\n",
    "    cv2.imshow(\"RECORDING\",canvas)\n",
    "    if cv2.waitKey(1)== ord(\"p\"):\n",
    "        break\n",
    "video.release()\n",
    "cv2.destroyAllWindows()"
   ]
  },
  {
   "cell_type": "code",
   "execution_count": null,
   "id": "41ca1cd3",
   "metadata": {},
   "outputs": [],
   "source": []
  },
  {
   "cell_type": "code",
   "execution_count": null,
   "id": "1599d453",
   "metadata": {},
   "outputs": [],
   "source": []
  },
  {
   "cell_type": "code",
   "execution_count": null,
   "id": "f394dc12",
   "metadata": {},
   "outputs": [],
   "source": []
  },
  {
   "cell_type": "code",
   "execution_count": null,
   "id": "853472ee",
   "metadata": {},
   "outputs": [],
   "source": []
  },
  {
   "cell_type": "code",
   "execution_count": null,
   "id": "7b9472c3",
   "metadata": {},
   "outputs": [],
   "source": []
  },
  {
   "cell_type": "code",
   "execution_count": null,
   "id": "b4c625b7",
   "metadata": {},
   "outputs": [],
   "source": []
  },
  {
   "cell_type": "code",
   "execution_count": null,
   "id": "f215f358",
   "metadata": {},
   "outputs": [],
   "source": []
  },
  {
   "cell_type": "code",
   "execution_count": null,
   "id": "a45518cb",
   "metadata": {},
   "outputs": [],
   "source": []
  },
  {
   "cell_type": "code",
   "execution_count": null,
   "id": "949937b8",
   "metadata": {},
   "outputs": [],
   "source": []
  },
  {
   "cell_type": "code",
   "execution_count": null,
   "id": "881e0172",
   "metadata": {},
   "outputs": [],
   "source": []
  },
  {
   "cell_type": "code",
   "execution_count": null,
   "id": "7fd70ac1",
   "metadata": {},
   "outputs": [],
   "source": []
  },
  {
   "cell_type": "code",
   "execution_count": null,
   "id": "b84744a1",
   "metadata": {},
   "outputs": [],
   "source": []
  },
  {
   "cell_type": "code",
   "execution_count": null,
   "id": "6d7517e6",
   "metadata": {},
   "outputs": [],
   "source": []
  },
  {
   "cell_type": "code",
   "execution_count": null,
   "id": "991022ff",
   "metadata": {},
   "outputs": [],
   "source": []
  },
  {
   "cell_type": "code",
   "execution_count": null,
   "id": "673e8961",
   "metadata": {},
   "outputs": [],
   "source": []
  },
  {
   "cell_type": "code",
   "execution_count": null,
   "id": "4f8b3862",
   "metadata": {},
   "outputs": [],
   "source": []
  },
  {
   "cell_type": "code",
   "execution_count": null,
   "id": "e1a96707",
   "metadata": {},
   "outputs": [],
   "source": []
  },
  {
   "cell_type": "code",
   "execution_count": 13,
   "id": "3e56b5fd",
   "metadata": {},
   "outputs": [],
   "source": [
    "import numpy as np \n",
    "import cv2\n",
    "video = cv2.VideoCapture(0) # 0 ----> web cam\n",
    "\n",
    "while True :\n",
    "    check,frame = video.read()\n",
    "    #gray = cv2.cvtColor(frame,cv2.COLOR_BGR2GRAY)\n",
    "    cv2.imshow(\"Video\",frame)\n",
    "    if cv2.waitKey(1)== ord(\"p\"):\n",
    "        break\n",
    "video.release()\n",
    "cv2.destroyAllWindows()"
   ]
  }
 ],
 "metadata": {
  "kernelspec": {
   "display_name": "Python 3 (ipykernel)",
   "language": "python",
   "name": "python3"
  },
  "language_info": {
   "codemirror_mode": {
    "name": "ipython",
    "version": 3
   },
   "file_extension": ".py",
   "mimetype": "text/x-python",
   "name": "python",
   "nbconvert_exporter": "python",
   "pygments_lexer": "ipython3",
   "version": "3.11.4"
  }
 },
 "nbformat": 4,
 "nbformat_minor": 5
}
